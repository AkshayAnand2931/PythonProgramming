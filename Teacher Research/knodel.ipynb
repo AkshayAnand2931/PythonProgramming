{
 "cells": [
  {
   "cell_type": "code",
   "execution_count": 4,
   "metadata": {},
   "outputs": [],
   "source": [
    "import numpy as np"
   ]
  },
  {
   "cell_type": "code",
   "execution_count": 5,
   "metadata": {},
   "outputs": [],
   "source": [
    "def isPrime(n:int)->bool:\n",
    "    \"\"\"This function is to determine whether or not the given number is a prime number\"\"\"\n",
    "\n",
    "    if n <= 1:\n",
    "        return False\n",
    "    \n",
    "    for i in range(2,(n//2)+1):\n",
    "        if n % i == 0:\n",
    "            return False\n",
    "    \n",
    "    return True"
   ]
  },
  {
   "cell_type": "code",
   "execution_count": 6,
   "metadata": {},
   "outputs": [],
   "source": [
    "def pi_list(n:int)->list:\n",
    "    \"\"\"This function is to generate a list of prime numbers starting from 2 to a given value n\"\"\"\n",
    "\n",
    "    list_primes = []\n",
    "    for i in range(0,n+1):\n",
    "        if isPrime(i):\n",
    "            list_primes.append(i)\n",
    "\n",
    "    return list_primes"
   ]
  },
  {
   "cell_type": "code",
   "execution_count": 7,
   "metadata": {},
   "outputs": [],
   "source": [
    "def knodel_adjacency(n:int)->list:\n",
    "    \"\"\"This function defines the adjacency matrix for a given n-vertex knodel graph\"\"\"\n",
    "\n",
    "    list_primes = pi_list(n)\n",
    "    adjacency_matrix = np.zeros((2*n,2*n),dtype=int)\n",
    "\n",
    "    for i in range(1,2*n+1):\n",
    "        for j in range(1,2*n+1):\n",
    "\n",
    "            if i <= n:\n",
    "                if j> n:\n",
    "                    if j-i+1 in list_primes or j-i+1-n in list_primes:\n",
    "                        adjacency_matrix[i-1][j-1] = 1\n",
    "            \n",
    "            if i > n:\n",
    "                if j <= n:\n",
    "                    if i-j+1 in list_primes or i-j+1-n in list_primes:\n",
    "                        adjacency_matrix[i-1][j-1] = 1\n",
    "\n",
    "    return adjacency_matrix"
   ]
  },
  {
   "cell_type": "code",
   "execution_count": 8,
   "metadata": {},
   "outputs": [
    {
     "name": "stdout",
     "output_type": "stream",
     "text": [
      "[[0 1 1 0 1 0 1]\n",
      " [1 0 1 1 0 1 0]\n",
      " [0 1 0 1 1 0 1]\n",
      " [1 0 1 0 1 1 0]\n",
      " [0 1 0 1 0 1 1]\n",
      " [1 0 1 0 1 0 1]\n",
      " [1 1 0 1 0 1 0]]\n"
     ]
    }
   ],
   "source": [
    "adjacency_matrix = knodel_adjacency(7)\n",
    "print(adjacency_matrix[0:7,7:])"
   ]
  },
  {
   "cell_type": "code",
   "execution_count": 9,
   "metadata": {},
   "outputs": [
    {
     "name": "stdout",
     "output_type": "stream",
     "text": [
      "[[ True  True  True  True  True  True  True]\n",
      " [ True  True  True  True  True  True  True]\n",
      " [ True  True  True  True  True  True  True]\n",
      " [ True  True  True  True  True  True  True]\n",
      " [ True  True  True  True  True  True  True]\n",
      " [ True  True  True  True  True  True  True]\n",
      " [ True  True  True  True  True  True  True]]\n"
     ]
    }
   ],
   "source": [
    "print(adjacency_matrix[0:7,7:].transpose() == adjacency_matrix[7:,0:7])"
   ]
  },
  {
   "cell_type": "code",
   "execution_count": 10,
   "metadata": {},
   "outputs": [
    {
     "data": {
      "text/plain": [
       "array([[0, 1, 1, 0, 1, 0, 1],\n",
       "       [1, 0, 1, 1, 0, 1, 0],\n",
       "       [0, 1, 0, 1, 1, 0, 1],\n",
       "       [1, 0, 1, 0, 1, 1, 0],\n",
       "       [0, 1, 0, 1, 0, 1, 1],\n",
       "       [1, 0, 1, 0, 1, 0, 1],\n",
       "       [1, 1, 0, 1, 0, 1, 0]])"
      ]
     },
     "execution_count": 10,
     "metadata": {},
     "output_type": "execute_result"
    }
   ],
   "source": [
    "n = int(input(\"Enter the number of vertices in the graph:\"))\n",
    "adj = knodel_adjacency(n)\n",
    "adj[0:n,n:]\n"
   ]
  },
  {
   "cell_type": "code",
   "execution_count": 32,
   "metadata": {},
   "outputs": [],
   "source": [
    "def isSafe(graph,v,pos,path):\n",
    "    \"\"\"This function is to check whether or not the next vertex can be accessed\"\"\"\n",
    "\n",
    "    if graph[path[pos-1]][v] == 0:\n",
    "        return False\n",
    "    \n",
    "    for vertex in path:\n",
    "        if vertex == v:\n",
    "            return False\n",
    "        \n",
    "    return True"
   ]
  },
  {
   "cell_type": "code",
   "execution_count": 33,
   "metadata": {},
   "outputs": [],
   "source": [
    "def hamCycleUtil(graph,path,pos):\n",
    "\n",
    "    if pos == len(graph):\n",
    "        if graph[path[pos-1]][path[0]] == 1:\n",
    "            return True\n",
    "        else:\n",
    "            return False\n",
    "        \n",
    "    for v in range(1,len(graph)):\n",
    " \n",
    "        if isSafe(graph,v,pos,path) == True:\n",
    "\n",
    "            path[pos] = v\n",
    "            #graph[path[pos-1]][v] = 0\n",
    " \n",
    "            if hamCycleUtil(graph,path, pos+1) == True:\n",
    "                    return True\n",
    " \n",
    "            path[pos] = -1\n",
    "            #graph[path[pos-1]][v] = 1\n",
    " \n",
    "        return False"
   ]
  },
  {
   "cell_type": "code",
   "execution_count": 34,
   "metadata": {},
   "outputs": [],
   "source": [
    "def HamCycle(graph):\n",
    "    path = [-1]*len(graph)\n",
    "\n",
    "    path[0] = 0\n",
    "\n",
    "    if hamCycleUtil(graph,path,1) == False:\n",
    "        return False\n",
    "    return True"
   ]
  },
  {
   "cell_type": "code",
   "execution_count": 35,
   "metadata": {},
   "outputs": [],
   "source": [
    "def numHamCycles(graph):\n",
    "\n",
    "    while 1 in graph[0]:\n",
    "        count = 0\n",
    "\n",
    "        if HamCycle(graph) == False:\n",
    "            return count\n",
    "        else:\n",
    "            count += 1"
   ]
  },
  {
   "cell_type": "code",
   "execution_count": 36,
   "metadata": {},
   "outputs": [
    {
     "name": "stdout",
     "output_type": "stream",
     "text": [
      "[[0 0 0 0 0 0 0 0 1 1 0 1 0 1]\n",
      " [0 0 0 0 0 0 0 1 0 1 1 0 1 0]\n",
      " [0 0 0 0 0 0 0 0 1 0 1 1 0 1]\n",
      " [0 0 0 0 0 0 0 1 0 1 0 1 1 0]\n",
      " [0 0 0 0 0 0 0 0 1 0 1 0 1 1]\n",
      " [0 0 0 0 0 0 0 1 0 1 0 1 0 1]\n",
      " [0 0 0 0 0 0 0 1 1 0 1 0 1 0]\n",
      " [0 1 0 1 0 1 1 0 0 0 0 0 0 0]\n",
      " [1 0 1 0 1 0 1 0 0 0 0 0 0 0]\n",
      " [1 1 0 1 0 1 0 0 0 0 0 0 0 0]\n",
      " [0 1 1 0 1 0 1 0 0 0 0 0 0 0]\n",
      " [1 0 1 1 0 1 0 0 0 0 0 0 0 0]\n",
      " [0 1 0 1 1 0 1 0 0 0 0 0 0 0]\n",
      " [1 0 1 0 1 1 0 0 0 0 0 0 0 0]]\n"
     ]
    },
    {
     "data": {
      "text/plain": [
       "False"
      ]
     },
     "execution_count": 36,
     "metadata": {},
     "output_type": "execute_result"
    }
   ],
   "source": [
    "graph = knodel_adjacency(7)\n",
    "#print(graph)\n",
    "HamCycle(graph)"
   ]
  },
  {
   "cell_type": "code",
   "execution_count": null,
   "metadata": {},
   "outputs": [],
   "source": []
  }
 ],
 "metadata": {
  "kernelspec": {
   "display_name": "Python 3",
   "language": "python",
   "name": "python3"
  },
  "language_info": {
   "codemirror_mode": {
    "name": "ipython",
    "version": 3
   },
   "file_extension": ".py",
   "mimetype": "text/x-python",
   "name": "python",
   "nbconvert_exporter": "python",
   "pygments_lexer": "ipython3",
   "version": "3.9.13"
  },
  "orig_nbformat": 4
 },
 "nbformat": 4,
 "nbformat_minor": 2
}
