{
 "cells": [
  {
   "cell_type": "code",
   "execution_count": 45,
   "metadata": {},
   "outputs": [],
   "source": [
    "import numpy as np"
   ]
  },
  {
   "cell_type": "code",
   "execution_count": 46,
   "metadata": {},
   "outputs": [],
   "source": [
    "def isPrime(n:int)->bool:\n",
    "    \"\"\"This function is to determine whether or not the given number is a prime number\"\"\"\n",
    "\n",
    "    if n <= 1:\n",
    "        return False\n",
    "    \n",
    "    for i in range(2,(n//2)+1):\n",
    "        if n % i == 0:\n",
    "            return False\n",
    "    \n",
    "    return True"
   ]
  },
  {
   "cell_type": "code",
   "execution_count": 47,
   "metadata": {},
   "outputs": [],
   "source": [
    "def pi_list(n:int)->list:\n",
    "    \"\"\"This function is to generate a list of prime numbers starting from 2 to a given value n\"\"\"\n",
    "\n",
    "    list_primes = []\n",
    "    for i in range(0,n+1):\n",
    "        if isPrime(i):\n",
    "            list_primes.append(i)\n",
    "\n",
    "    return list_primes"
   ]
  },
  {
   "cell_type": "code",
   "execution_count": 48,
   "metadata": {},
   "outputs": [],
   "source": [
    "def knodel_adjacency(n:int)->list:\n",
    "    \"\"\"This function defines the adjacency matrix for a given n-vertex knodel graph\"\"\"\n",
    "\n",
    "    list_primes = pi_list(n)\n",
    "    adjacency_matrix = np.zeros((2*n,2*n),dtype=int)\n",
    "\n",
    "    for i in range(1,2*n+1):\n",
    "        for j in range(1,2*n+1):\n",
    "\n",
    "            if i <= n:\n",
    "                if j> n:\n",
    "                    if j-i+1 in list_primes or j-i+1-n in list_primes:\n",
    "                        adjacency_matrix[i-1][j-1] = 1\n",
    "            \n",
    "            if i > n:\n",
    "                if j <= n:\n",
    "                    if i-j+1 in list_primes or i-j+1-n in list_primes:\n",
    "                        adjacency_matrix[i-1][j-1] = 1\n",
    "\n",
    "    return adjacency_matrix"
   ]
  },
  {
   "cell_type": "code",
   "execution_count": 49,
   "metadata": {},
   "outputs": [
    {
     "name": "stdout",
     "output_type": "stream",
     "text": [
      "[[0 1 1 0 1 0 1]\n",
      " [1 0 1 1 0 1 0]\n",
      " [0 1 0 1 1 0 1]\n",
      " [1 0 1 0 1 1 0]\n",
      " [0 1 0 1 0 1 1]\n",
      " [1 0 1 0 1 0 1]\n",
      " [1 1 0 1 0 1 0]]\n"
     ]
    }
   ],
   "source": [
    "adjacency_matrix = knodel_adjacency(7)\n",
    "print(adjacency_matrix[0:7,7:])"
   ]
  },
  {
   "cell_type": "code",
   "execution_count": 50,
   "metadata": {},
   "outputs": [
    {
     "name": "stdout",
     "output_type": "stream",
     "text": [
      "[[ True  True  True  True  True  True  True]\n",
      " [ True  True  True  True  True  True  True]\n",
      " [ True  True  True  True  True  True  True]\n",
      " [ True  True  True  True  True  True  True]\n",
      " [ True  True  True  True  True  True  True]\n",
      " [ True  True  True  True  True  True  True]\n",
      " [ True  True  True  True  True  True  True]]\n"
     ]
    }
   ],
   "source": [
    "print(adjacency_matrix[0:7,7:].transpose() == adjacency_matrix[7:,0:7])"
   ]
  },
  {
   "cell_type": "code",
   "execution_count": 51,
   "metadata": {},
   "outputs": [
    {
     "name": "stdout",
     "output_type": "stream",
     "text": [
      "[[0 0 0 0 0 0 1 1 0 1]\n",
      " [0 0 0 0 0 1 0 1 1 0]\n",
      " [0 0 0 0 0 0 1 0 1 1]\n",
      " [0 0 0 0 0 1 0 1 0 1]\n",
      " [0 0 0 0 0 1 1 0 1 0]\n",
      " [0 1 0 1 1 0 0 0 0 0]\n",
      " [1 0 1 0 1 0 0 0 0 0]\n",
      " [1 1 0 1 0 0 0 0 0 0]\n",
      " [0 1 1 0 1 0 0 0 0 0]\n",
      " [1 0 1 1 0 0 0 0 0 0]]\n"
     ]
    }
   ],
   "source": [
    "n = int(input(\"Enter the number of vertices in the graph:\"))\n",
    "print(knodel_adjacency(n))\n"
   ]
  },
  {
   "cell_type": "code",
   "execution_count": null,
   "metadata": {},
   "outputs": [],
   "source": []
  }
 ],
 "metadata": {
  "kernelspec": {
   "display_name": "Python 3",
   "language": "python",
   "name": "python3"
  },
  "language_info": {
   "codemirror_mode": {
    "name": "ipython",
    "version": 3
   },
   "file_extension": ".py",
   "mimetype": "text/x-python",
   "name": "python",
   "nbconvert_exporter": "python",
   "pygments_lexer": "ipython3",
   "version": "3.9.13"
  },
  "orig_nbformat": 4
 },
 "nbformat": 4,
 "nbformat_minor": 2
}
